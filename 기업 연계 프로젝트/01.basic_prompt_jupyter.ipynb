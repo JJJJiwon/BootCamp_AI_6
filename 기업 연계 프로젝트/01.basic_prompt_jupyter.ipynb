{
 "cells": [
  {
   "cell_type": "code",
   "execution_count": 167,
   "metadata": {},
   "outputs": [],
   "source": [
    "import openai\n",
    "import os\n",
    "import dotenv\n",
    "from IPython.display import Markdown, display\n",
    "\n",
    "# env 설정\n",
    "dotenv_file = dotenv.find_dotenv()\n",
    "dotenv.load_dotenv(dotenv_file)\n",
    "# print(os.environ[\"OPENAI_API_KEY\"])\n",
    "openai_api_key = os.environ[\"OPENAI_API_KEY\"]\n",
    "\n",
    "from langchain.chains import ConversationChain\n",
    "from langchain_openai import ChatOpenAI"
   ]
  },
  {
   "cell_type": "code",
   "execution_count": 168,
   "metadata": {},
   "outputs": [],
   "source": [
    "def print_markdown(text):\n",
    "    display(Markdown(text))"
   ]
  },
  {
   "cell_type": "code",
   "execution_count": 169,
   "metadata": {},
   "outputs": [
    {
     "name": "stdout",
     "output_type": "stream",
     "text": [
      " 그 소리는 우리 친구가 자요. 아침 새벽 들면 그 소리가 나잖아요. 2달째 정도 들면 그 소리가 깬 거예요. 그리고 제가 생각한 점이 대학원에서 2달째 먹고 있어요. 그게 뭐.. 힘이 안 정돼더라고요. 그런 건 없고. 기억보자고. 얼마 전에 형님한테 아픈 걸 자랑을 했더니 가구라고.. 그 형수는 불면증 때문에 여기서 야원을 왔고. 그 형수는 이따 오더라고요. 그래서 생각나고 아침에 가게를 문 열어놓고 왔어요. 아버님 지금 왼쪽하고 오른쪽 오늘 귀검사를 먼저 한 번 했어요. 저희가 다른 입의 눈과보다 귀검사를 되게 오랜 시간 해요. 왜냐하면 좀 정밀하게 귀가 어떤지 보기 위해서 했는데 왼쪽하고 오른쪽 보면은 오른쪽에서 이렇게 약간 더 많이 떨어진 느낌이 있어요. 왼쪽은 지금 이 정도고. 우리가 여기 넘어가면은 사실 잘 못 드는 지역이니까 상관은 없는데 오른쪽 부분은 지금 이렇게 쭉 우리 계곡물 떨어지듯이 떨어지는데 정상 사람은 이 정도로 이렇게 돼 있어야 돼요. 30이 너무.. 근데 우리가 50에 가까우면은 이명이 좀 생길 수 있다고 보거든요. 그래서 50 정도의 선이 맞으면은 우리가 아 이 부분은 언제든지 이명이 좀 생길 수 있구나. 이렇게 보실 수가 있어요. 그래서 청력이 지금 사람들하고 대화하는 데 쓰이는 청력은 괜찮으신데 고주파 쪽에 청력이 지금 좀 떨어져 있어요. 그래서 막 그 TV 소리나 이런 것들은 조금 더 크게 예전보다 들으실 가능성이 조금 있고. 저희가 이제 어떻게 치료를 이명 치료를 하는지 말씀을 좀 드릴게요. 아마 불면증 때문에 약 드신 분은 그분도 원래 처음 소개는 이명 때문에 오신 분 소개를 오셨을 거예요. 아니 그 형수님은 지역이 서울소 살다가 직장 때문에 연락이 그게 불면증이 심해가지고 여기 안 들어갖고 누가 얘기해가지고 왔다고 그래요. 근데 그건 저건 관계가 없는 거고. 근데 그 형수님은 현재 약을 먹고 지금 완화가 되는 상태라고 지금 드시고 있다고 들었어요. 네. 처방받으신지 얼마 안 됐어요. 그 분 누군지 알 것 같아요. 그 형님은 이제 고혈압이 다 이명이 한 번 고흔들어 먹게 하고 일성생활이더라고요. 정력 전지기 했으니까. 그 우선은 귀가 아원님 이명이 왜 나는지 궁금하잖아요. 그거에 대해서 설명을 먼저 드릴게요. 우리가 귀가 이렇게 있고 소리가 바깥에서 이렇게 전달이 되면은 중간에 구막이 있어요. 구막에서 소리가 진동으로 바뀌어가지고 이 진동이 이 관을 타고 뺑뺑뺑뺑뺑 이렇게 돌아가게 되거든요. 그래서 이게 돌아가가지고 각 세포의 진동이 좀 전달이 돼요. 세포에 전달이 되면은 우리가 이 진동을 이 노란색 세포 있죠. 애들이 이렇게 빡빡이 서있어주면은 밖에서 소리가 들어오면은 애들을 소리를 잘 전달을 해줄 수가 있거든요. 그러면 우리가 잘 듣는데 이제 아원님 같은 경우는 한 4천 헬즈에 담당하는 세포가 소음이나 스트레스, 피로, 불면 이런 것들이 있으면은 이 세포가 힘을 이렇게 잃게 돼요. 힘을 잃으면은 바깥에서 들어와도 애네들을 머리에다가 전달을 잘 못해주니까 오늘 청력 검사 했을 때 이게 뚝 떨어지는 모습이 좀 보이거든요. 정상인들에 비해서 그러면은 이제 우리 몸은 아 이거 지금 뭔가 문제가 생겼다. 문제가 생겼다고 보고 그걸 좀 우리 몸에다가 알려주고 싶어 해요. 그렇게 해서 나오는 소리를 이명이라고 보시면 되세요. 그래서 이명은 다른 사람은 못 듣잖아요. 아원님만 지금 귀 안에서 들리는 거지. 그래서 그런 소리 이명이라고 보시면 되고 저희가 치료는 이제 이명이 있으면은 그 귀에 세포를 좀 활성해 줄 수 있는 그런 소리들이 있거든요. 특수한 소리. 그래서 소리 치료를 많이. 소리를 어떤 소리를 아침저녁으로 30분씩 이제 들으면은 아까 그 문제가 됐던 그런 세포들이 빻빻이 다시 이제 쓰게 됩니다. 그러면은 밖에서 소리가 들어와서 얘네들이 전달이 다시 잘 되니까 이제 아까 그 50 데시벨 정도에 낮춰졌던 게 이제 올라가게 되거든요. 그러면은 몸에서 이명을 만들어낼 필요가 없어지니까 이명이 잘 치료가 되는 그러면은 이 소리가 과연 효과가 있냐 저희가 이렇게 봤을 때 뭔가 밑으로 이렇게 떨어진 50에 가까이 떨어진 분들을 이제 소리를 듣고 다시 청력 검사를 하면 위로 이렇게 확 올라가는 경우가 많이 있어요. 10명 중에 8명 정도는 청력을 확 좋아지게 하면서 그 세포들을 좋아지게 만들어주거든요. 이분도 아버님 저에게 뚝 떨어진 분인데 위로 이렇게 좀 올라가게 되고 이분은 많이 떨어진 분인데 훨씬 많이 올라가고 이런 경우가 많이 있어요. 그래서 이런 식으로 청력을 좀 좋게 하면서 이명을 치료를 하는데 이거 다른 데 가면은 이명 그냥 뭐 그냥 사르라 이런 얘기 많이 하거든요. 못 고친다. 근데 저희가 이명이랑 이런 게 있으면은 우울증이나 침해 발병력이 좀 높아지니까 시도를 해서 치료할 수 있으면은 조금 호전을 시키는 게 훨씬 삶의 집에 도움드릴 수가 있고 그 다음에 원인 중에 보통은 소음이 많아요. 소음이 많이 있는 분들이 이제 이명이 많이 생기는 경우가 많고 또 스트레스나 피로 불면 우울감 이런 게 있으면은 이제 발생을 할 수가 있어서 이런 부분들을 같이 개선해 가면서 이명 치료를 하시는 검사를 통해서 이렇게 뚝 떨어진 부분 있으면은 여기를 조여지게 하는 소리치료하고 몸을 좋아지게 하는 한약 처방을 저희가 해서 지금 이제 신경 안정제를 드신다는 거는 잠 주무시는 게 지금 좀 편해져야... 수면제가 아니고 제가 여기 하나 보여주시면 돼요. 이거예요. 이거예요. 수면제라 아니고 아 근데 이명 소리 때문에 낮에도 막 엄청 예민하고 막 그런가요? 스트레스 받고? 저도 조그만한 각일을 하고 있는데 저는 소리에 굉장히 민감해요. 도로병 1층이기 때문에 가게 문을 못 열어놔요. 소리 너무 시끄러우면 이게 소리가 그 지나간 소리는 몸이 그냥 그 그냥 지나가는데 우리가 문을 닫는 소리에서 딱! 눕주각이 닿는 소리 있죠. 그대로 조금만 잡아 몸이 움치레요. 신경이 약간 청각 과민도 좀... 그게 굉장히 예민해요. 아파트에 의해서 칼구림이 나는 거라고 제가 이해해요. 그 순간은 막 우욱 해요. 지금은 참고 참자. 지금 보여주신 약이 조금 일반적으로 이명 환자한테 바로 쓰지는 않는 약이거든요. 그래서 제가 한번 여쭤본 거예요. 이명 환자 동네 의료기관에서 전문 병원에서 세화폐고를 탔거든요. 동네 의료기관에서는 자기는 해결사에 없으니까 초밥, 수면 써줘서 그렇게 하고 그렇게 하고 가는 데마다 약간씩 총력 검사 방법이 내 느낌이 조금씩 틀리더라고요. 대학 국가에서 좀 더 도미를 더 하고 거기서 먹는 약이 그냥 처음에는 혈액순환제? 원래는 혈액순환제 만드시거든요. 혈액순환제, 그다음에 이약을 줬어요. 그래서 솔직히 여자분이 교수님의 저기 젊은 식물이거든요. 전에 검사했을 때는 연세 등신 분이 계신데 교수님이 싹 바뀌었더라고요. 그래서 많은 친구가 물어봤더니 이번에 어떻게든 개표를 했다고 하더라고요. 그래요? 그래서 이런 좀 센 약까지 지금 좀 드시고 있는 그런 상황이네요. 저희가 이제 이거 말고 남자는 그 덜리선이라고 약, 고지혈증 약, 그것까지 먹고 있어요. 그 대신 혈압 있다든가, 장르바였든가, 그건 없습니다. 가슴 두근거리거나 그런 것도 없으세요? 그건 없고 이제 얼마 전부터 이 뭐죠? 눈. 눈떨림이 생기세요? 눈떨림하고 이거죠? 목매장. 그리고 이것도 나이 먹으니까 없던 것이 하나씩 왔고 계속 오더라고요. 내가 특별하게 생각하면 원장님처럼 사무실에서 가만히 앉아 있어요. 손님을 기다리고 있어요. 근데 주눅시는 음악 클래식 소리나 자연소리로 들어요. 자연소리로. 저는 소음이 사람 많은 걸 싫어요. 소음이 있는 거. 그래서 내 성격 탁도 있겠지만 이 콩콩거리는 분이 아주 저 싫어요. 소음. 그 소음. 지금도 자다가도 하지만 오이스트로 콩 먹으면 깨요. 그냥 반응이. 자정적으로. 아버님 아까 보여드린 것 중에 청각 과민도 좀 있거든요. 그 슬퍼가 좀 불편해지면 청각 과민도 같이 나오는데 아버님 그쪽 이명하고 청각 과민 쪽으로 지금 귀가 안 좋은 게 좀 표현이. 귀가 안 트거나 그런 건 없어요. 그런데 소리에 너무 민감해서 집에서도 콩콩거리 소리 때문에 20년 정도는 지금 바로 자요. 콩콩거리 소리 내가 일어나는 거로. 그거 찾을 수는 없고 구분 뒤. 그래서 이제 저희가 아까 소리를 들려줘서 세포를 치료한다고 했는데 이건 이제 아버님 소리 예민하니까 큰 소리 들려주는 게 아니라 거의 안 들리는 소리를 들리는 거거든요. 소리 치료를 하는데 저희가 아침 저녁으로 30분씩 들을 수 있게 저희가 mp3나 스마트폰에 담아 드려요. 이게 처음에 제작하는 비용이 조금 있어요. 비용이 저희가 30만 원 비용이 발생을 하거든요. 그런데 이거는 이제 다른 대학병원이나 이런 데서는 해보지 못한 거니까 이명 환자분들은 이거를 거의 필수적으로 좀 권유를 드리고요. 그다음에 몸 상태를 보면 지금 예민하고 이런 부분들이 좀 있으시고 그래서 이런 부분들은 저희가 이명 환자분들 첫 달에 한약을 같이 처방을 하거든요. 한약 처방이랑 그다음에 목이나 이런 데를 풀어주면 갑자기 이명이 급격히 좋아지시는 분들이 도와주시는 게 있어요. 그래서 목 쪽으로 저희가 가볍게 교정이랑 침치료 이런 식으로 합니다. 그래서 침치료 하는 거는 한 만 원 정도 진료비가 나오고요. 그다음에 한약이랑 우리가 소리 치료는 저희가 첫 달 하실 때 한약은 30만 원이고 소리 치료 30만 원이고 한약은 일반 약이 33만 원, 녹약약 45만 원 이렇게 되어 있어요. 많이 하시는 거는 이제 한약하고 소리 치료 첫 달에 한 번 치료 기간은 소리 치료 한 3개월 정도 들으시라고 이게 귀를 이제 좀 세포를 활성화하는 건 저희가 자신 있게 말씀을 그런 식으로 좀 많이 하는데 한번 소개 받고 오셨으니까 제가 좀 잘 열심히 치료해드려고요. 근데 이게 매일 듣는 거는 이제 집에서 매일 들으시고 침치료는 초반에는 일주일에 두 번 정도 오세요. 네, 가능합니다. 그 정도로 조금 하시거든요. 한번 그렇게 좀 같이 한번 해볼까요?\n"
     ]
    }
   ],
   "source": [
    "# txt파일 load\n",
    "file_path = \"C:/Users/scvts/Desktop/jiwon/prompt/text_data/treatment_local_balance/명작한의원.txt\"\n",
    "\n",
    "with open(file_path, 'r', encoding='utf-8') as file:\n",
    "    input_content = file.read()\n",
    "\n",
    "input_content = input_content.replace(\"\\n\", \" \")\n",
    "print(input_content)"
   ]
  },
  {
   "cell_type": "code",
   "execution_count": 170,
   "metadata": {},
   "outputs": [],
   "source": [
    "# 프롬프트\n",
    "user_text_1 = f'''\n",
    "# {input_content}\n",
    "위의 대화는 의사와 환자와의 상담 내용입니다. 주소증, 발병일, 과거력, 가족력, 현병력에 대한 '요약 결과'를 단답형으로 제공해주세요. \n",
    "그리고 \"요약 결과\"에 대한 '근거'를 상담 내용에서 추출하여 각 항목별로 나눠서 제공해주세요 : 주소증, 발병일, 과거력, 가족력, 현병력. \n",
    "'요약 결과'와 '근거'는 따로 표시하며, '근거'는 마지막에 제공해주세요.\"\n",
    "\n",
    "\n",
    "# '''"
   ]
  },
  {
   "cell_type": "code",
   "execution_count": 171,
   "metadata": {},
   "outputs": [],
   "source": [
    "prompt_save_text = \"위의 대화는 의사와 환자와의 상담 내용입니다.\" + user_text_1.split(\"위의 대화는 의사와 환자와의 상담 내용입니다.\")[1]"
   ]
  },
  {
   "cell_type": "code",
   "execution_count": 172,
   "metadata": {},
   "outputs": [],
   "source": [
    "# GPT-4 인스턴스 생성\n",
    "llm = ChatOpenAI(openai_api_key=openai_api_key, temperature=0, model_name=\"gpt-4-0125-preview\")  # gpt-4-0125-preview, gpt-3.5-turbo-0125\n",
    "conversation_with_gpt4p0 = ConversationChain(llm=llm)\n",
    "\n",
    "result = conversation_with_gpt4p0.invoke(user_text_1)\n"
   ]
  },
  {
   "cell_type": "code",
   "execution_count": 173,
   "metadata": {},
   "outputs": [
    {
     "data": {
      "text/markdown": [
       "**요약 결과:**\n",
       "\n",
       "- 주소증: 이명, 청각 과민\n",
       "- 발병일: 명시되지 않음\n",
       "- 과거력: 불면증, 고혈압\n",
       "- 가족력: 명시되지 않음\n",
       "- 현병력: 이명, 청각 과민, 불면증, 고혈압, 눈떨림, 목매장\n",
       "\n",
       "**근거:**\n",
       "\n",
       "- **주소증:**\n",
       "  - 이명과 청각 과민이 주된 증상으로 언급됩니다. 환자는 소리에 매우 민감하며, 특히 콩콩거리는 소리에 반응하여 잠에서 깨는 등의 청각 과민 증상을 보입니다. 이명에 대해서도 상세히 설명하며, 이명으로 인한 불편함을 호소합니다.\n",
       "\n",
       "- **발병일:**\n",
       "  - 발병일에 대한 구체적인 정보는 대화에서 제공되지 않습니다.\n",
       "\n",
       "- **과거력:**\n",
       "  - 환자는 불면증으로 인해 약을 복용 중이며, 고혈압에 대해서도 언급합니다. 이는 환자의 과거력에 해당합니다.\n",
       "\n",
       "- **가족력:**\n",
       "  - 가족력에 대한 구체적인 정보는 대화에서 제공되지 않습니다.\n",
       "\n",
       "- **현병력:**\n",
       "  - 현재 이명과 청각 과민 외에도 불면증과 고혈압을 앓고 있으며, 최근에는 눈떨림과 목매장 증상도 경험하고 있습니다. 이는 환자의 현재 건강 상태와 관련된 정보입니다.\n",
       "\n",
       "이 정보들은 환자와 의사 간의 대화에서 언급된 내용을 바탕으로 정리된 것입니다."
      ],
      "text/plain": [
       "<IPython.core.display.Markdown object>"
      ]
     },
     "metadata": {},
     "output_type": "display_data"
    }
   ],
   "source": [
    "print_markdown(result['response'])"
   ]
  },
  {
   "cell_type": "code",
   "execution_count": 174,
   "metadata": {},
   "outputs": [],
   "source": [
    "\n",
    "# 파일 저장\n",
    "# file = open(\"C:/Users/scvts/Desktop/jiwon/prompt/result/gpt3p5/운남_요약3.txt\",\"w\")\n",
    "# file.write(result['response'])\n",
    "# file.close()\n"
   ]
  },
  {
   "cell_type": "code",
   "execution_count": 175,
   "metadata": {},
   "outputs": [],
   "source": [
    "prompt_save_text = \"위의 대화는 의사와 환자와의 상담 내용입니다.\" + user_text_1.split(\"위의 대화는 의사와 환자와의 상담 내용입니다.\")[1]"
   ]
  },
  {
   "cell_type": "code",
   "execution_count": 176,
   "metadata": {},
   "outputs": [
    {
     "ename": "FileNotFoundError",
     "evalue": "[Errno 2] No such file or directory: 'C:/Users/scvts/Desktop/jiwon/prompt/result/gpt4p0/1.basic_prompt_result_3p5/명작한의원_요약_프롬프트.txt'",
     "output_type": "error",
     "traceback": [
      "\u001b[1;31m---------------------------------------------------------------------------\u001b[0m",
      "\u001b[1;31mFileNotFoundError\u001b[0m                         Traceback (most recent call last)",
      "Cell \u001b[1;32mIn[176], line 3\u001b[0m\n\u001b[0;32m      1\u001b[0m \u001b[38;5;66;03m# 요약 결과 + 프롬프트 저장\u001b[39;00m\n\u001b[0;32m      2\u001b[0m file_name \u001b[38;5;241m=\u001b[39m \u001b[38;5;124m\"\u001b[39m\u001b[38;5;124mC:/Users/scvts/Desktop/jiwon/prompt/result/gpt4p0/1.basic_prompt_result_3p5/명작한의원_요약_프롬프트.txt\u001b[39m\u001b[38;5;124m\"\u001b[39m\n\u001b[1;32m----> 3\u001b[0m \u001b[38;5;28;01mwith\u001b[39;00m \u001b[38;5;28;43mopen\u001b[39;49m\u001b[43m(\u001b[49m\u001b[43mfile_name\u001b[49m\u001b[43m,\u001b[49m\u001b[43m \u001b[49m\u001b[38;5;124;43m'\u001b[39;49m\u001b[38;5;124;43mw\u001b[39;49m\u001b[38;5;124;43m'\u001b[39;49m\u001b[43m,\u001b[49m\u001b[43m \u001b[49m\u001b[43mencoding\u001b[49m\u001b[38;5;241;43m=\u001b[39;49m\u001b[38;5;124;43m\"\u001b[39;49m\u001b[38;5;124;43mutf-8\u001b[39;49m\u001b[38;5;124;43m\"\u001b[39;49m\u001b[43m)\u001b[49m \u001b[38;5;28;01mas\u001b[39;00m file:\n\u001b[0;32m      4\u001b[0m     file\u001b[38;5;241m.\u001b[39mwrite(result[\u001b[38;5;124m'\u001b[39m\u001b[38;5;124mresponse\u001b[39m\u001b[38;5;124m'\u001b[39m])\n\u001b[0;32m      5\u001b[0m     file\u001b[38;5;241m.\u001b[39mwrite(\u001b[38;5;124m\"\u001b[39m\u001b[38;5;130;01m\\n\u001b[39;00m\u001b[38;5;130;01m\\n\u001b[39;00m\u001b[38;5;124m=====prompt=====\u001b[39m\u001b[38;5;130;01m\\n\u001b[39;00m\u001b[38;5;130;01m\\n\u001b[39;00m\u001b[38;5;124m\"\u001b[39m)\n",
      "File \u001b[1;32mc:\\Users\\scvts\\anaconda3\\envs\\treatment-summary\\Lib\\site-packages\\IPython\\core\\interactiveshell.py:310\u001b[0m, in \u001b[0;36m_modified_open\u001b[1;34m(file, *args, **kwargs)\u001b[0m\n\u001b[0;32m    303\u001b[0m \u001b[38;5;28;01mif\u001b[39;00m file \u001b[38;5;129;01min\u001b[39;00m {\u001b[38;5;241m0\u001b[39m, \u001b[38;5;241m1\u001b[39m, \u001b[38;5;241m2\u001b[39m}:\n\u001b[0;32m    304\u001b[0m     \u001b[38;5;28;01mraise\u001b[39;00m \u001b[38;5;167;01mValueError\u001b[39;00m(\n\u001b[0;32m    305\u001b[0m         \u001b[38;5;124mf\u001b[39m\u001b[38;5;124m\"\u001b[39m\u001b[38;5;124mIPython won\u001b[39m\u001b[38;5;124m'\u001b[39m\u001b[38;5;124mt let you open fd=\u001b[39m\u001b[38;5;132;01m{\u001b[39;00mfile\u001b[38;5;132;01m}\u001b[39;00m\u001b[38;5;124m by default \u001b[39m\u001b[38;5;124m\"\u001b[39m\n\u001b[0;32m    306\u001b[0m         \u001b[38;5;124m\"\u001b[39m\u001b[38;5;124mas it is likely to crash IPython. If you know what you are doing, \u001b[39m\u001b[38;5;124m\"\u001b[39m\n\u001b[0;32m    307\u001b[0m         \u001b[38;5;124m\"\u001b[39m\u001b[38;5;124myou can use builtins\u001b[39m\u001b[38;5;124m'\u001b[39m\u001b[38;5;124m open.\u001b[39m\u001b[38;5;124m\"\u001b[39m\n\u001b[0;32m    308\u001b[0m     )\n\u001b[1;32m--> 310\u001b[0m \u001b[38;5;28;01mreturn\u001b[39;00m \u001b[43mio_open\u001b[49m\u001b[43m(\u001b[49m\u001b[43mfile\u001b[49m\u001b[43m,\u001b[49m\u001b[43m \u001b[49m\u001b[38;5;241;43m*\u001b[39;49m\u001b[43margs\u001b[49m\u001b[43m,\u001b[49m\u001b[43m \u001b[49m\u001b[38;5;241;43m*\u001b[39;49m\u001b[38;5;241;43m*\u001b[39;49m\u001b[43mkwargs\u001b[49m\u001b[43m)\u001b[49m\n",
      "\u001b[1;31mFileNotFoundError\u001b[0m: [Errno 2] No such file or directory: 'C:/Users/scvts/Desktop/jiwon/prompt/result/gpt4p0/1.basic_prompt_result_3p5/명작한의원_요약_프롬프트.txt'"
     ]
    }
   ],
   "source": [
    "# 요약 결과 + 프롬프트 저장\n",
    "file_name = \"C:/Users/scvts/Desktop/jiwon/prompt/result/gpt4p0/1.basic_prompt_result_4p0/명작한의원_요약_프롬프트.txt\"\n",
    "with open(file_name, 'w', encoding=\"utf-8\") as file:\n",
    "    file.write(result['response'])\n",
    "    file.write(\"\\n\\n=====prompt=====\\n\\n\")\n",
    "    file.write(prompt_save_text)"
   ]
  },
  {
   "cell_type": "code",
   "execution_count": null,
   "metadata": {},
   "outputs": [],
   "source": [
    "# 프롬프트 저장\n",
    "# file_name = \"C:/Users/scvts/Desktop/jiwon//prompt/result/gpt3p5/운남_프롬프트_2.txt\"\n",
    "# with open(file_name, 'w', encoding=\"utf-8\") as file:\n",
    "#     file.write(result['response'])"
   ]
  },
  {
   "cell_type": "code",
   "execution_count": null,
   "metadata": {},
   "outputs": [],
   "source": [
    "# import glob\n",
    "\n",
    "# glob.glob(\"C:/Users/scvts/Desktop/jiwon//prompt/result/gpt3p5/*.txt\")"
   ]
  },
  {
   "cell_type": "code",
   "execution_count": null,
   "metadata": {},
   "outputs": [],
   "source": [
    "# for file_name in file_list:\n",
    "#     with open(file_name, 'w', encoding='utf-8') as file:\n",
    "#         file.write(result['response'])\n",
    "        "
   ]
  }
 ],
 "metadata": {
  "kernelspec": {
   "display_name": "treatment-summary",
   "language": "python",
   "name": "python3"
  },
  "language_info": {
   "codemirror_mode": {
    "name": "ipython",
    "version": 3
   },
   "file_extension": ".py",
   "mimetype": "text/x-python",
   "name": "python",
   "nbconvert_exporter": "python",
   "pygments_lexer": "ipython3",
   "version": "3.11.7"
  }
 },
 "nbformat": 4,
 "nbformat_minor": 2
}
